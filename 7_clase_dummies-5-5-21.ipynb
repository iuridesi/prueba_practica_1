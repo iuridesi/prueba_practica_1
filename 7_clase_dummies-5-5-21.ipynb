{
 "cells": [
  {
   "cell_type": "code",
   "execution_count": null,
   "metadata": {},
   "outputs": [],
   "source": [
    "# initial setup\n",
    "try:\n",
    "    # settings colab:\n",
    "    import google.colab\n",
    "    \n",
    "    ! mkdir -p ../Data\n",
    "    # los que usan colab deben modificar el token de esta url:\n",
    "    ! wget -O ../Data/cereal.csv https://raw.githubusercontent.com/Digital-House-DATA/ds_blend_students_2020/master/M3/CLASE_16_Regresion_Lineal_Multiple/Data/cereal.csv?token=AA4GFHPAEDQWNF4BCOROIRK63AQB2    \n",
    "    \n",
    "except ModuleNotFoundError:    \n",
    "    # settings local:\n",
    "    %run \"../../../common/0_notebooks_base_setup.py\""
   ]
  },
  {
   "cell_type": "markdown",
   "metadata": {},
   "source": [
    "[<img src=\"https://www.digitalhouse.com/ar/logo-DH.png\" width=\"400\" height=\"200\" align='right'>](http://digitalhouse.com.ar/)"
   ]
  },
  {
   "cell_type": "markdown",
   "metadata": {
    "colab_type": "text",
    "id": "C1J7qeViPeHx"
   },
   "source": [
    "### Dataset cereales\n",
    "\n",
    "En el siguiente dataset se encuentra información sobre diferentes cereales.\n",
    "\n",
    "Las categorías en las columnas son:\n",
    "       \n",
    "   * **name** : Nombre del producto\n",
    "   \n",
    "   \n",
    "   * **mfr** : Nombre del fabricante:\n",
    "      * A = American Home Food Products\n",
    "      * G = General Mills\n",
    "      * K = Kelloggs\n",
    "      * N = Nabisco\n",
    "      * P = Post\n",
    "      * Q = Quaker Oats\n",
    "   \n",
    "   \n",
    "   *  **type**:\n",
    "      * C = frío  \n",
    "      * H = caliente \n",
    "        \n",
    "   \n",
    "   *  **calories**: calorias por porción\n",
    "   *  **protein**:  gramos de proteinas\n",
    "   *  **fat**:      gramos de grasa\n",
    "   *  **sodium**:   miligramos de sodio\n",
    "   *  **fiber**:    gramos de fibra dietética\n",
    "   *  **arbo**:     gramos de azúcares complejos\n",
    "   *  **sugars**:   gramos de azúcares simples\n",
    "   *  **potass**:   miligramos de K\n",
    "   *  **vitamins**: vitaminas y minerales - 0, 25, o 100, indicando el % recomendado por la FDA.\n",
    "   *  **shelf**:    display shelf (1, 2, or 3, counting from the floor)\n",
    "   *  **weight**:   peso en onzas de una porción\n",
    "   *  **cups**:     numero de copas en una porción \n",
    "   *  **rating**:   clasificación de los cereales (Possibly from Consumer Reports?)\n",
    "        \n",
    "A partir de ésta información:\n",
    "     \n",
    "  * Caracterizar el tipo de dato de cada columna (_string, int, float_) y,\n",
    "  * Reconocer el tipo variable (_continua, categórica_)."
   ]
  },
  {
   "cell_type": "markdown",
   "metadata": {
    "colab_type": "text",
    "id": "7ifH6hriPeH1"
   },
   "source": [
    "### Leer el Archivo 'cereal.csv'."
   ]
  },
  {
   "cell_type": "code",
   "execution_count": null,
   "metadata": {
    "colab": {},
    "colab_type": "code",
    "id": "iJbep-CAPeH3"
   },
   "outputs": [],
   "source": []
  },
  {
   "cell_type": "markdown",
   "metadata": {
    "colab_type": "text",
    "id": "qagn6kTCPeH-"
   },
   "source": [
    "#### Imprimir 5 muestras para reconocimiento de datos,  ¿Coinciden con las caracterizaciones realizadas?"
   ]
  },
  {
   "cell_type": "code",
   "execution_count": null,
   "metadata": {
    "colab": {},
    "colab_type": "code",
    "id": "tTdCzjsePeH_"
   },
   "outputs": [],
   "source": []
  },
  {
   "cell_type": "markdown",
   "metadata": {
    "colab_type": "text",
    "id": "w-p-hyiBPeIF"
   },
   "source": [
    "#### Tomar una columna categórica a elección y convertir en una variable dummie.\n",
    "\n",
    "Se puede utilizar la función ```pd.get_dummies()```.\n"
   ]
  },
  {
   "cell_type": "code",
   "execution_count": null,
   "metadata": {
    "colab": {},
    "colab_type": "code",
    "id": "vka6SCS9PeIH"
   },
   "outputs": [],
   "source": []
  },
  {
   "cell_type": "markdown",
   "metadata": {
    "colab_type": "text",
    "id": "K3cDwbdlPeIL"
   },
   "source": [
    "##### Tomar la columna de fabricante, transformar a variable dummie y contar cuantos productos son de Kelloggs."
   ]
  },
  {
   "cell_type": "code",
   "execution_count": null,
   "metadata": {
    "colab": {},
    "colab_type": "code",
    "id": "35u8aYh-PeIO"
   },
   "outputs": [],
   "source": []
  },
  {
   "cell_type": "markdown",
   "metadata": {
    "colab_type": "text",
    "id": "1sTL59YQPeIW"
   },
   "source": [
    "##### Ordenar los fabricantes por cantidad de productos en orden descendente y presentarlo en un gráfico."
   ]
  },
  {
   "cell_type": "code",
   "execution_count": null,
   "metadata": {
    "colab": {},
    "colab_type": "code",
    "id": "Necs4MW7PeIb"
   },
   "outputs": [],
   "source": []
  },
  {
   "cell_type": "markdown",
   "metadata": {
    "colab_type": "text",
    "id": "xUxlLHbCPeJE"
   },
   "source": [
    "##### La función ```pd.get_dummies()``` permite tomar mas de una columna, por ejemplo, utilizando slicing. \n",
    "##### Tomar las columnas 'mfr' y 'type',  y convertirlas en variables dummies simultáneamente, obtener una descripción de ese dataframe."
   ]
  },
  {
   "cell_type": "code",
   "execution_count": null,
   "metadata": {
    "colab": {},
    "colab_type": "code",
    "id": "sC-5n3k0PeJH"
   },
   "outputs": [],
   "source": []
  },
  {
   "cell_type": "code",
   "execution_count": null,
   "metadata": {
    "colab": {},
    "colab_type": "code",
    "id": "LcKaZRvQPeJY"
   },
   "outputs": [],
   "source": []
  }
 ],
 "metadata": {
  "colab": {
   "name": "3.PRACTICA_INDEPENDIENTE_Starter_Dummies.ipynb",
   "provenance": []
  },
  "kernelspec": {
   "display_name": "Python 3",
   "language": "python",
   "name": "python3"
  },
  "language_info": {
   "codemirror_mode": {
    "name": "ipython",
    "version": 3
   },
   "file_extension": ".py",
   "mimetype": "text/x-python",
   "name": "python",
   "nbconvert_exporter": "python",
   "pygments_lexer": "ipython3",
   "version": "3.7.9"
  }
 },
 "nbformat": 4,
 "nbformat_minor": 4
}
